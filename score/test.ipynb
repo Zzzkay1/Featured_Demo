{
 "cells": [
  {
   "cell_type": "markdown",
   "id": "4a39fb56",
   "metadata": {},
   "source": [
    "# 主要是測試各種功能用的，自行增加區塊來測試(記得加註解)"
   ]
  },
  {
   "cell_type": "markdown",
   "id": "133d0455",
   "metadata": {},
   "source": [
    "## torch測試及可用顯存測試"
   ]
  },
  {
   "cell_type": "code",
   "execution_count": 2,
   "id": "22be0c73",
   "metadata": {},
   "outputs": [
    {
     "name": "stdout",
     "output_type": "stream",
     "text": [
      "True\n"
     ]
    },
    {
     "data": {
      "text/plain": [
       "27.873252868652344"
      ]
     },
     "execution_count": 2,
     "metadata": {},
     "output_type": "execute_result"
    }
   ],
   "source": [
    "import torch\n",
    "from psutil import virtual_memory\n",
    "print(torch.cuda.is_available())\n",
    "GPUmem = torch.cuda.mem_get_info()\n",
    "mem = GPUmem[1] /1024 / 1024 / 1024\n",
    "mem += virtual_memory().total /1024 / 1024 / 1024 / 2\n",
    "mem"
   ]
  },
  {
   "cell_type": "markdown",
   "id": "98f642b7",
   "metadata": {},
   "source": [
    "## 功能檔案分離測試"
   ]
  },
  {
   "cell_type": "code",
   "execution_count": null,
   "id": "deafc1e6",
   "metadata": {},
   "outputs": [],
   "source": [
    "import WebDisplay\n",
    "data = {\n",
    "    'name': 'example',\n",
    "    'value': 42,\n",
    "    'status': 'active'\n",
    "}\n",
    "web_display = WebDisplay.WebDisplay(data)\n",
    "web_display.print_data()"
   ]
  },
  {
   "cell_type": "markdown",
   "id": "10b74062",
   "metadata": {},
   "source": [
    "## 下載YouTube影片及聲音測試"
   ]
  },
  {
   "cell_type": "code",
   "execution_count": 1,
   "id": "8a5785eb",
   "metadata": {},
   "outputs": [
    {
     "name": "stdout",
     "output_type": "stream",
     "text": [
      "download...\n",
      "ok!\n"
     ]
    }
   ],
   "source": [
    "from bs4 import BeautifulSoup\n",
    "from pytubefix import YouTube\n",
    "yt = YouTube('https://music.youtube.com/watch?v=NycFr6D6DSw&si=przy_9oxIVQs5HI9')\n",
    "print('download...')\n",
    "yt.streams.get_audio_only().download(output_path='download/')   #下載音訊\n",
    "print('ok!')"
   ]
  },
  {
   "cell_type": "code",
   "execution_count": null,
   "id": "f0cef878",
   "metadata": {},
   "outputs": [],
   "source": [
    "acc = yt.streams.get_audio_only()\n",
    "acc.download(output_path='download/')   #下載音訊"
   ]
  },
  {
   "cell_type": "markdown",
   "id": "ba12e2bb",
   "metadata": {},
   "source": [
    "### 加入手動輸入連結"
   ]
  },
  {
   "cell_type": "code",
   "execution_count": null,
   "id": "c1b7570f",
   "metadata": {},
   "outputs": [],
   "source": [
    "url = input()"
   ]
  },
  {
   "cell_type": "code",
   "execution_count": null,
   "id": "161cd59c",
   "metadata": {},
   "outputs": [],
   "source": [
    "from YouTubeDownload import YouTubeDownload\n",
    "from MusicSeparation import MusicSeparation\n",
    "import os\n",
    "vedio = YouTubeDownload.download_youtube_video(url)\n",
    "audio = YouTubeDownload.download_youtube_audio(url)\n",
    "separation_audio = MusicSeparation.run_separation(audio)\n",
    "merge = YouTubeDownload.merge_video_audio(vedio, separation_audio[0])\n",
    "print(vedio, audio , merge, separation_audio)\n",
    "#os.system(merge)\n",
    "separation_audio"
   ]
  },
  {
   "cell_type": "code",
   "execution_count": null,
   "id": "88b475eb",
   "metadata": {},
   "outputs": [],
   "source": [
    "os.system(merge)\n",
    "audio"
   ]
  },
  {
   "cell_type": "code",
   "execution_count": null,
   "id": "9a342905",
   "metadata": {},
   "outputs": [],
   "source": [
    "#測試用，記得刪\n",
    "from MusicSeparation import MusicSeparation\n",
    "from YouTubeDownload import YouTubeDownload\n",
    "separation_audio = ['h:\\\\NFU\\\\score\\\\score/output\\\\光輝歲月 - Beyond ( 黃家駒, 黃貫中, 黃家強, 葉世榮 )[ lyrics ]\\\\光輝歲月 - Beyond ( 黃家駒, 黃貫中, 黃家強, 葉世榮 )[ lyrics ]-other.wav',\n",
    " 'h:\\\\NFU\\\\score\\\\score/output\\\\光輝歲月 - Beyond ( 黃家駒, 黃貫中, 黃家強, 葉世榮 )[ lyrics ]\\\\光輝歲月 - Beyond ( 黃家駒, 黃貫中, 黃家強, 葉世榮 )[ lyrics ]-vocals.wav']"
   ]
  },
  {
   "cell_type": "markdown",
   "id": "157fc344",
   "metadata": {},
   "source": [
    "### 整合ASR辨識"
   ]
  },
  {
   "cell_type": "code",
   "execution_count": null,
   "id": "699eb8d9",
   "metadata": {},
   "outputs": [],
   "source": [
    "ASR_result = MusicSeparation.run_ASR(separation_audio[1])\n",
    "YouTubeDownload.download_captions_by_language_code(video_url=url,language_code=ASR_result[1])"
   ]
  },
  {
   "cell_type": "code",
   "execution_count": null,
   "id": "add548e4",
   "metadata": {},
   "outputs": [],
   "source": [
    "from YouTubeDownload import YouTubeDownload\n",
    "YouTubeDownload.download_captions_by_language_code(video_url=url,language_code='ja')"
   ]
  },
  {
   "cell_type": "markdown",
   "id": "1a1c3037",
   "metadata": {},
   "source": [
    "## NeMo測試(確認無用)"
   ]
  },
  {
   "cell_type": "code",
   "execution_count": null,
   "id": "5b70ceea",
   "metadata": {},
   "outputs": [],
   "source": [
    "import nemo\n",
    "import nemo.collections.asr as nemo_asr\n",
    "\n",
    "print(nemo.__version__)\n"
   ]
  },
  {
   "cell_type": "markdown",
   "id": "8e2e338a",
   "metadata": {},
   "source": [
    "## Whisper字幕辨識測試"
   ]
  },
  {
   "cell_type": "code",
   "execution_count": null,
   "id": "6c36de75",
   "metadata": {},
   "outputs": [],
   "source": [
    "import whisper\n",
    "whisper.available_models()"
   ]
  },
  {
   "cell_type": "code",
   "execution_count": null,
   "id": "af89d2c9",
   "metadata": {},
   "outputs": [],
   "source": [
    "import os\n",
    "import torch\n",
    "import tkinter as tk\n",
    "from tkinter import filedialog\n",
    "import whisper\n",
    "\n",
    "#建立Tk主視窗，但隱藏\n",
    "root = tk.Tk()\n",
    "root.withdraw()\n",
    "root.attributes('-topmost', True)  #對話框出現在最前方\n",
    "\n",
    "#選擇音訊檔案\n",
    "current_dir = os.getcwd()\n",
    "file_path = filedialog.askopenfilename(\n",
    "    title=\"請選擇音訊檔案\",\n",
    "    initialdir=current_dir,\n",
    "    filetypes=[(\"音訊檔案\", \"*.wav *.mp3 *.m4a *.flac\"), (\"所有檔案\", \"*.*\")]\n",
    ")\n",
    "\n",
    "if not file_path:\n",
    "    print(\"未選擇檔案\")\n",
    "    exit()\n",
    "\n",
    "print(\"選擇的檔案:\", file_path)\n",
    "\n",
    "#載入Whisper模型\n",
    "if(torch.cuda.is_available()):\n",
    "    model = whisper.load_model(\"large-v3\", device=\"cuda\")\n",
    "else:\n",
    "    model = whisper.load_model(\"large-v3\", device=\"cpu\")\n",
    "\n",
    "#轉錄音訊，Whisper會自動偵測語言\n",
    "result = model.transcribe(file_path)\n",
    "print(\"偵測語言:\", result[\"language\"])\n",
    "\n",
    "#輸出資料夾:與音訊檔同一層\n",
    "audio_dir = os.path.dirname(file_path)\n",
    "\n",
    "#取得音訊檔名稱(不含副檔名)\n",
    "filename = os.path.splitext(os.path.basename(file_path))[0]\n",
    "\n",
    "#---SRT---\n",
    "with open(os.path.join(audio_dir, f\"{filename}.srt\"), \"w\", encoding=\"utf-8\") as f:\n",
    "    for i, seg in enumerate(result[\"segments\"], start=1):\n",
    "        text = seg['text'].strip()\n",
    "        if not text:\n",
    "            continue\n",
    "        f.write(f\"{i}\\n\")\n",
    "        start = seg[\"start\"]\n",
    "        end = seg[\"end\"]\n",
    "        start_time = f\"{int(start//3600):02}:{int((start%3600)//60):02}:{int(start%60):02},{int((start%1)*1000):03}\"\n",
    "        end_time = f\"{int(end//3600):02}:{int((end%3600)//60):02}:{int(end%60):02},{int((end%1)*1000):03}\"\n",
    "        f.write(f\"{start_time} --> {end_time}\\n\")\n",
    "        f.write(f\"{text}\\n\\n\")\n",
    "\n",
    "#---VTT---\n",
    "with open(os.path.join(audio_dir, f\"{filename}.vtt\"), \"w\", encoding=\"utf-8\") as f:\n",
    "    f.write(\"WEBVTT\\n\\n\")\n",
    "    for seg in result[\"segments\"]:\n",
    "        text = seg['text'].strip()\n",
    "        if not text:\n",
    "            continue\n",
    "        start = seg[\"start\"]\n",
    "        end = seg[\"end\"]\n",
    "        start_time = f\"{int(start//3600):02}:{int((start%3600)//60):02}:{int(start%60):02}.{int((start%1)*1000):03}\"\n",
    "        end_time = f\"{int(end//3600):02}:{int((end%3600)//60):02}:{int(end%60):02}.{int((end%1)*1000):03}\"\n",
    "        f.write(f\"{start_time} --> {end_time}\\n\")\n",
    "        f.write(f\"{text}\\n\\n\")\n",
    "\n",
    "#---TXT---\n",
    "with open(os.path.join(audio_dir, f\"{filename}.txt\"), \"w\", encoding=\"utf-8\") as f:\n",
    "    for seg in result[\"segments\"]:\n",
    "        text = seg['text'].strip()\n",
    "        if not text:\n",
    "            continue\n",
    "        start = seg[\"start\"]\n",
    "        end = seg[\"end\"]\n",
    "        start_time = f\"{int(start//3600):02}:{int((start%3600)//60):02}:{int(start%60):02}.{int((start%1)*1000):03}\"\n",
    "        end_time = f\"{int(end//3600):02}:{int((end%3600)//60):02}:{int(end%60):02}.{int((end%1)*1000):03}\"\n",
    "        f.write(f\"[{start_time} --> {end_time}] {text}\\n\")\n",
    "\n",
    "print(f\"已輸出至資料夾:{audio_dir}\")\n"
   ]
  },
  {
   "cell_type": "markdown",
   "id": "856680a0",
   "metadata": {},
   "source": [
    "### 分離功能至MusicSeparation.py內測試"
   ]
  },
  {
   "cell_type": "code",
   "execution_count": null,
   "id": "33574c61",
   "metadata": {},
   "outputs": [],
   "source": [
    "from MusicSeparation import MusicSeparation\n",
    "#MusicSeparation.run_ASR(r\"H:/NFU/score/score/output/Immortals/Immortals-vocals.wav\")    #若無傳入值則由使用者手動選取\n",
    "MusicSeparation.run_ASR()"
   ]
  },
  {
   "cell_type": "markdown",
   "id": "b14545df",
   "metadata": {},
   "source": [
    "## Whisper微調測試(官方範例)"
   ]
  },
  {
   "cell_type": "code",
   "execution_count": null,
   "id": "d5a69f3c",
   "metadata": {},
   "outputs": [],
   "source": [
    "from datasets import load_dataset, DatasetDict\n",
    "\n",
    "common_voice = DatasetDict()\n",
    "\n",
    "#載入文件範例(\"mozilla-foundation/common_voice_11_0\"是線上的資料，要自己改)\n",
    "common_voice[\"train\"] = load_dataset(\"mozilla-foundation/common_voice_11_0\", \"hi\", split=\"train+validation\", use_auth_token=True)\n",
    "common_voice[\"test\"] = load_dataset(\"mozilla-foundation/common_voice_11_0\", \"hi\", split=\"test\", use_auth_token=True)\n",
    "\n",
    "print(common_voice)"
   ]
  },
  {
   "cell_type": "code",
   "execution_count": null,
   "id": "ebf5627b",
   "metadata": {},
   "outputs": [],
   "source": [
    "from transformers import WhisperFeatureExtractor\n",
    "\n",
    "#特徵提取器(預處理音檔)_選擇模型\n",
    "feature_extractor = WhisperFeatureExtractor.from_pretrained(\"openai/whisper-small\")"
   ]
  },
  {
   "cell_type": "code",
   "execution_count": null,
   "id": "34b30651",
   "metadata": {},
   "outputs": [],
   "source": [
    "from transformers import WhisperTokenizer\n",
    "\n",
    "#模型輸出後處理為文字格式的分詞器\n",
    "#language要自己改\n",
    "tokenizer = WhisperTokenizer.from_pretrained(\"openai/whisper-small\", language=\"Hindi\", task=\"transcribe\")"
   ]
  },
  {
   "cell_type": "code",
   "execution_count": null,
   "id": "48caa375",
   "metadata": {},
   "outputs": [],
   "source": [
    "input_str = common_voice[\"train\"][0][\"sentence\"]\n",
    "labels = tokenizer(input_str).input_ids\n",
    "decoded_with_special = tokenizer.decode(labels, skip_special_tokens=False)\n",
    "decoded_str = tokenizer.decode(labels, skip_special_tokens=True)\n",
    "\n",
    "print(f\"Input:                 {input_str}\")\n",
    "print(f\"Decoded w/ special:    {decoded_with_special}\")\n",
    "print(f\"Decoded w/out special: {decoded_str}\")\n",
    "print(f\"Are equal:             {input_str == decoded_str}\")"
   ]
  },
  {
   "cell_type": "code",
   "execution_count": null,
   "id": "3fe78471",
   "metadata": {},
   "outputs": [],
   "source": [
    "from transformers import WhisperProcessor\n",
    "\n",
    "processor = WhisperProcessor.from_pretrained(\"openai/whisper-small\", language=\"Hindi\", task=\"transcribe\")\n",
    "\n",
    "print(common_voice[\"train\"][0])\n",
    "\"\"\"輸出格式範例(採樣率48K)\n",
    "{'audio': {'path': '/home/sanchit_huggingface_co/.cache/huggingface/datasets/downloads/extracted/607848c7e74a89a3b5225c0fa5ffb9470e39b7f11112db614962076a847f3abf/cv-corpus-11.0-2022-09-21/hi/clips/common_voice_hi_25998259.mp3', \n",
    "           'array': array([0.0000000e+00, 0.0000000e+00, 0.0000000e+00, ..., 9.6724887e-07,\n",
    "       1.5334779e-06, 1.0415988e-06], dtype=float32), \n",
    "           'sampling_rate': 48000},\n",
    " 'sentence': 'खीर की मिठास पर गरमाई बिहार की सियासत, कुशवाहा ने दी सफाई'}\n",
    "\"\"\""
   ]
  },
  {
   "cell_type": "code",
   "execution_count": null,
   "id": "7bcd92d7",
   "metadata": {},
   "outputs": [],
   "source": [
    "from datasets import Audio\n",
    "\n",
    "common_voice = common_voice.cast_column(\"audio\", Audio(sampling_rate=16000))\n",
    "\n",
    "print(common_voice[\"train\"][0])\n",
    "\"\"\"輸出格式範例(下採樣至16K)\n",
    "{'audio': {'path': '/home/sanchit_huggingface_co/.cache/huggingface/datasets/downloads/extracted/607848c7e74a89a3b5225c0fa5ffb9470e39b7f11112db614962076a847f3abf/cv-corpus-11.0-2022-09-21/hi/clips/common_voice_hi_25998259.mp3', \n",
    "           'array': array([ 0.0000000e+00,  0.0000000e+00,  0.0000000e+00, ...,\n",
    "       -3.4206650e-07,  3.2979898e-07,  1.0042874e-06], dtype=float32),\n",
    "           'sampling_rate': 16000},\n",
    " 'sentence': 'खीर की मिठास पर गरमाई बिहार की सियासत, कुशवाहा ने दी सफाई'}\n",
    "\"\"\""
   ]
  },
  {
   "cell_type": "code",
   "execution_count": null,
   "id": "57dbd77f",
   "metadata": {},
   "outputs": [],
   "source": [
    "def prepare_dataset(batch):\n",
    "    # load and resample audio data from 48 to 16kHz\n",
    "    #(翻譯)載入音檔取樣率改至16K\n",
    "    audio = batch[\"audio\"]\n",
    "\n",
    "    # compute log-Mel input features from input audio array \n",
    "    #(翻譯)從輸入音訊數組計算 log-Mel 輸入特徵\n",
    "    batch[\"input_features\"] = feature_extractor(audio[\"array\"], sampling_rate=audio[\"sampling_rate\"]).input_features[0]\n",
    "\n",
    "    # encode target text to label ids \n",
    "    #(翻譯)將目標文字編碼為標籤ID\n",
    "    batch[\"labels\"] = tokenizer(batch[\"sentence\"]).input_ids\n",
    "    return batch\n",
    "\n",
    "#用.map函式在所有訓練樣本應用上方函式\n",
    "common_voice = common_voice.map(prepare_dataset, remove_columns=common_voice.column_names[\"train\"], num_proc=4)\n",
    "\"\"\"\n",
    "注意：目前 datasets 使用 torchaudio 和 librosa 進行音訊載入與重取樣。如果您想實作自訂的資料載入/重取樣，可以使用 \"path\" 欄位取得音訊檔案路徑，並忽略 \"audio\" 欄位。\n",
    "\"\"\""
   ]
  },
  {
   "cell_type": "code",
   "execution_count": null,
   "id": "f5d2fa18",
   "metadata": {},
   "outputs": [],
   "source": [
    "#定義數據收集器\n",
    "import torch\n",
    "\n",
    "from dataclasses import dataclass\n",
    "from typing import Any, Dict, List, Union\n",
    "\n",
    "@dataclass\n",
    "class DataCollatorSpeechSeq2SeqWithPadding:\n",
    "    processor: Any\n",
    "    decoder_start_token_id: int\n",
    "\n",
    "    def __call__(self, features: List[Dict[str, Union[List[int], torch.Tensor]]]) -> Dict[str, torch.Tensor]:\n",
    "        # split inputs and labels since they have to be of different lengths and need different padding methods\n",
    "        # first treat the audio inputs by simply returning torch tensors\n",
    "        input_features = [{\"input_features\": feature[\"input_features\"]} for feature in features]\n",
    "        batch = self.processor.feature_extractor.pad(input_features, return_tensors=\"pt\")\n",
    "\n",
    "        # get the tokenized label sequences\n",
    "        label_features = [{\"input_ids\": feature[\"labels\"]} for feature in features]\n",
    "        # pad the labels to max length\n",
    "        labels_batch = self.processor.tokenizer.pad(label_features, return_tensors=\"pt\")\n",
    "\n",
    "        # replace padding with -100 to ignore loss correctly\n",
    "        labels = labels_batch[\"input_ids\"].masked_fill(labels_batch.attention_mask.ne(1), -100)\n",
    "\n",
    "        # if bos token is appended in previous tokenization step,\n",
    "        # cut bos token here as it's append later anyways\n",
    "        if (labels[:, 0] == self.decoder_start_token_id).all().cpu().item():\n",
    "            labels = labels[:, 1:]\n",
    "\n",
    "        batch[\"labels\"] = labels\n",
    "\n",
    "        return batch"
   ]
  },
  {
   "cell_type": "code",
   "execution_count": null,
   "id": "c2718455",
   "metadata": {},
   "outputs": [],
   "source": [
    "#初始化數據整理器\n",
    "data_collator = DataCollatorSpeechSeq2SeqWithPadding(\n",
    "    processor=processor,\n",
    ")"
   ]
  },
  {
   "cell_type": "code",
   "execution_count": null,
   "id": "29dd2670",
   "metadata": {},
   "outputs": [],
   "source": [
    "import evaluate\n",
    "\n",
    "#wer代表詞錯誤率\n",
    "metric = evaluate.load(\"wer\")\n",
    "\n",
    "#錯誤率評估函式\n",
    "def compute_metrics(pred):\n",
    "    pred_ids = pred.predictions\n",
    "    label_ids = pred.label_ids\n",
    "\n",
    "    # replace -100 with the pad_token_id\n",
    "    label_ids[label_ids == -100] = tokenizer.pad_token_id\n",
    "\n",
    "    # we do not want to group tokens when computing the metrics\n",
    "    pred_str = tokenizer.batch_decode(pred_ids, skip_special_tokens=True)\n",
    "    label_str = tokenizer.batch_decode(label_ids, skip_special_tokens=True)\n",
    "\n",
    "    wer = 100 * metric.compute(predictions=pred_str, references=label_str)\n",
    "\n",
    "    return {\"wer\": wer}"
   ]
  },
  {
   "cell_type": "code",
   "execution_count": null,
   "id": "42ae3dab",
   "metadata": {},
   "outputs": [],
   "source": [
    "#載入預訓練checkpoint\n",
    "from transformers import WhisperForConditionalGeneration\n",
    "\n",
    "#模型自己改\n",
    "model = WhisperForConditionalGeneration.from_pretrained(\"openai/whisper-small\")\n",
    "\n",
    "model.config.forced_decoder_ids = None\n",
    "model.config.suppress_tokens = []"
   ]
  },
  {
   "cell_type": "code",
   "execution_count": null,
   "id": "11d03ebe",
   "metadata": {},
   "outputs": [],
   "source": [
    "from transformers import Seq2SeqTrainingArguments\n",
    "\n",
    "#如果不想將模型checkpoint上傳到Hub，設定push_to_hub=False\n",
    "training_args = Seq2SeqTrainingArguments(\n",
    "    output_dir=\"./whisper-small-hi\",  # change to a repo name of your choice\n",
    "    per_device_train_batch_size=16, #如果出現OOM(顯存超載)錯誤將此減半\n",
    "    gradient_accumulation_steps=1,  #並將此乘2\n",
    "    learning_rate=1e-5,\n",
    "    warmup_steps=500,\n",
    "    max_steps=5000,\n",
    "    gradient_checkpointing=True,\n",
    "    fp16=True,\n",
    "    evaluation_strategy=\"steps\",\n",
    "    per_device_eval_batch_size=8,\n",
    "    predict_with_generate=True,\n",
    "    generation_max_length=225,\n",
    "    save_steps=1000,\n",
    "    eval_steps=1000,\n",
    "    logging_steps=25,\n",
    "    report_to=[\"tensorboard\"],\n",
    "    load_best_model_at_end=True,\n",
    "    metric_for_best_model=\"wer\",\n",
    "    greater_is_better=False,\n",
    "    push_to_hub=True,\n",
    ")"
   ]
  },
  {
   "cell_type": "code",
   "execution_count": null,
   "id": "06364549",
   "metadata": {},
   "outputs": [],
   "source": [
    "from transformers import Seq2SeqTrainer\n",
    "\n",
    "trainer = Seq2SeqTrainer(\n",
    "    args=training_args,\n",
    "    model=model,\n",
    "    train_dataset=common_voice[\"train\"],\n",
    "    eval_dataset=common_voice[\"test\"],\n",
    "    data_collator=data_collator,\n",
    "    compute_metrics=compute_metrics,\n",
    "    tokenizer=processor.feature_extractor,\n",
    ")"
   ]
  },
  {
   "cell_type": "code",
   "execution_count": null,
   "id": "5dcd1214",
   "metadata": {},
   "outputs": [],
   "source": [
    "#訓練模型\n",
    "trainer.train()"
   ]
  },
  {
   "cell_type": "code",
   "execution_count": null,
   "id": "da0e29a1",
   "metadata": {},
   "outputs": [],
   "source": [
    "#設定上傳模型數值\n",
    "kwargs = {\n",
    "    \"dataset_tags\": \"mozilla-foundation/common_voice_11_0\", #標籤，記得改\n",
    "    \"dataset\": \"Common Voice 11.0\",  # a 'pretty' name for the training dataset (翻譯)給資料集設定一個你喜歡的名子\n",
    "    \"dataset_args\": \"config: hi, split: test\",\n",
    "    \"language\": \"hi\", #語言自己改\n",
    "    \"model_name\": \"Whisper Small Hi - Sanchit Gandhi\",  # a 'pretty' name for your model (翻譯)給模型一個好名子\n",
    "    \"finetuned_from\": \"openai/whisper-small\",\n",
    "    \"tasks\": \"automatic-speech-recognition\",\n",
    "}"
   ]
  },
  {
   "cell_type": "code",
   "execution_count": null,
   "id": "0b665ac6",
   "metadata": {},
   "outputs": [],
   "source": [
    "#上傳模型\n",
    "trainer.push_to_hub(**kwargs)"
   ]
  },
  {
   "cell_type": "markdown",
   "id": "c101b244",
   "metadata": {},
   "source": [
    "### 訓練完後如何使用"
   ]
  },
  {
   "cell_type": "code",
   "execution_count": null,
   "id": "c5fac795",
   "metadata": {},
   "outputs": [],
   "source": [
    "from transformers import pipeline\n",
    "import gradio as gr\n",
    "\n",
    "pipe = pipeline(model=\"sanchit-gandhi/whisper-small-hi\") #改成你自己的模型tag\n",
    "\n",
    "def transcribe(audio):\n",
    "    text = pipe(audio)[\"text\"]\n",
    "    return text\n",
    "\n",
    "iface = gr.Interface(\n",
    "    fn=transcribe,\n",
    "    inputs=gr.Audio(sources=[\"microphone\"], type=\"filepath\"),\n",
    "    outputs=\"text\",\n",
    "    title=\"Whisper Small Hindi\", #標題自訂\n",
    "    description=\"Realtime demo for Hindi speech recognition using a fine-tuned Whisper small model.\",\n",
    ")\n",
    "    \n",
    "iface.launch()"
   ]
  }
 ],
 "metadata": {
  "kernelspec": {
   "display_name": "aligner",
   "language": "python",
   "name": "python3"
  },
  "language_info": {
   "codemirror_mode": {
    "name": "ipython",
    "version": 3
   },
   "file_extension": ".py",
   "mimetype": "text/x-python",
   "name": "python",
   "nbconvert_exporter": "python",
   "pygments_lexer": "ipython3",
   "version": "3.13.7"
  }
 },
 "nbformat": 4,
 "nbformat_minor": 5
}
