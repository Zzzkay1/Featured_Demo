{
 "cells": [
  {
   "cell_type": "markdown",
   "id": "4a39fb56",
   "metadata": {},
   "source": [
    "# 主要是測試各種功能用的，自行增加區塊來測試(記得加註解)"
   ]
  },
  {
   "cell_type": "markdown",
   "id": "133d0455",
   "metadata": {},
   "source": [
    "## torch測試及可用顯存測試"
   ]
  },
  {
   "cell_type": "code",
   "execution_count": null,
   "id": "22be0c73",
   "metadata": {},
   "outputs": [],
   "source": [
    "import torch\n",
    "from psutil import virtual_memory\n",
    "print(torch.cuda.is_available())\n",
    "GPUmem = torch.cuda.mem_get_info()\n",
    "mem = GPUmem[1] /1024 / 1024 / 1024\n",
    "mem += virtual_memory().total /1024 / 1024 / 1024 / 2\n",
    "mem"
   ]
  },
  {
   "cell_type": "markdown",
   "id": "98f642b7",
   "metadata": {},
   "source": [
    "## 功能檔案分離測試"
   ]
  },
  {
   "cell_type": "code",
   "execution_count": null,
   "id": "deafc1e6",
   "metadata": {},
   "outputs": [],
   "source": [
    "import WebDisplay\n",
    "data = {\n",
    "    'name': 'example',\n",
    "    'value': 42,\n",
    "    'status': 'active'\n",
    "}\n",
    "web_display = WebDisplay.WebDisplay(data)\n",
    "web_display.print_data()"
   ]
  },
  {
   "cell_type": "markdown",
   "id": "10b74062",
   "metadata": {},
   "source": [
    "## 下載YouTube影片及聲音測試"
   ]
  },
  {
   "cell_type": "code",
   "execution_count": null,
   "id": "8a5785eb",
   "metadata": {},
   "outputs": [],
   "source": [
    "from bs4 import BeautifulSoup\n",
    "from pytubefix import YouTube\n",
    "yt = YouTube('https://music.youtube.com/watch?v=NycFr6D6DSw&si=przy_9oxIVQs5HI9')\n",
    "print('download...')\n",
    "yt.streams.get_audio_only().download(output_path='download/')   #下載音訊\n",
    "print('ok!')"
   ]
  },
  {
   "cell_type": "code",
   "execution_count": null,
   "id": "f0cef878",
   "metadata": {},
   "outputs": [],
   "source": [
    "acc = yt.streams.get_audio_only()\n",
    "acc.download(output_path='download/')   #下載音訊"
   ]
  },
  {
   "cell_type": "markdown",
   "id": "ba12e2bb",
   "metadata": {},
   "source": [
    "### 加入手動輸入連結"
   ]
  },
  {
   "cell_type": "code",
   "execution_count": null,
   "id": "c1b7570f",
   "metadata": {},
   "outputs": [],
   "source": [
    "url = input()"
   ]
  },
  {
   "cell_type": "code",
   "execution_count": null,
   "id": "161cd59c",
   "metadata": {},
   "outputs": [],
   "source": [
    "from YouTubeDownload import YouTubeDownload\n",
    "from MusicSeparation import MusicSeparation\n",
    "import os\n",
    "vedio = YouTubeDownload.download_youtube_video(url)\n",
    "audio = YouTubeDownload.download_youtube_audio(url)\n",
    "separation_audio = MusicSeparation.run_separation(audio)\n",
    "merge = YouTubeDownload.merge_video_audio(vedio, separation_audio[0])\n",
    "print(vedio, audio , merge, separation_audio)\n",
    "#os.system(merge)\n",
    "separation_audio"
   ]
  },
  {
   "cell_type": "code",
   "execution_count": null,
   "id": "88b475eb",
   "metadata": {},
   "outputs": [],
   "source": [
    "os.system(merge)\n",
    "audio"
   ]
  },
  {
   "cell_type": "code",
   "execution_count": null,
   "id": "9a342905",
   "metadata": {},
   "outputs": [],
   "source": [
    "#測試用，記得刪\n",
    "from MusicSeparation import MusicSeparation\n",
    "from YouTubeDownload import YouTubeDownload\n",
    "separation_audio = ['h:\\\\NFU\\\\score\\\\score/output\\\\光輝歲月 - Beyond ( 黃家駒, 黃貫中, 黃家強, 葉世榮 )[ lyrics ]\\\\光輝歲月 - Beyond ( 黃家駒, 黃貫中, 黃家強, 葉世榮 )[ lyrics ]-other.wav',\n",
    " 'h:\\\\NFU\\\\score\\\\score/output\\\\光輝歲月 - Beyond ( 黃家駒, 黃貫中, 黃家強, 葉世榮 )[ lyrics ]\\\\光輝歲月 - Beyond ( 黃家駒, 黃貫中, 黃家強, 葉世榮 )[ lyrics ]-vocals.wav']"
   ]
  },
  {
   "cell_type": "markdown",
   "id": "157fc344",
   "metadata": {},
   "source": [
    "### 整合ASR辨識"
   ]
  },
  {
   "cell_type": "code",
   "execution_count": null,
   "id": "699eb8d9",
   "metadata": {},
   "outputs": [],
   "source": [
    "ASR_result = MusicSeparation.run_ASR(separation_audio[1])"
   ]
  },
  {
   "cell_type": "code",
   "execution_count": null,
   "id": "cdf60d53",
   "metadata": {},
   "outputs": [],
   "source": [
    "YouTubeDownload.download_captions_by_language_code(video_url=url,language_code=ASR_result[1])"
   ]
  },
  {
   "cell_type": "code",
   "execution_count": null,
   "id": "add548e4",
   "metadata": {},
   "outputs": [],
   "source": [
    "from YouTubeDownload import YouTubeDownload\n",
    "YouTubeDownload.download_captions_by_language_code(video_url=url,language_code='ja')"
   ]
  },
  {
   "cell_type": "markdown",
   "id": "1a1c3037",
   "metadata": {},
   "source": [
    "## NeMo測試(確認無用)"
   ]
  },
  {
   "cell_type": "code",
   "execution_count": null,
   "id": "5b70ceea",
   "metadata": {},
   "outputs": [],
   "source": [
    "import nemo\n",
    "import nemo.collections.asr as nemo_asr\n",
    "\n",
    "print(nemo.__version__)\n"
   ]
  },
  {
   "cell_type": "markdown",
   "id": "8e2e338a",
   "metadata": {},
   "source": [
    "## Whisper字幕辨識測試"
   ]
  },
  {
   "cell_type": "code",
   "execution_count": null,
   "id": "6c36de75",
   "metadata": {},
   "outputs": [],
   "source": [
    "import whisper\n",
    "whisper.available_models()"
   ]
  },
  {
   "cell_type": "code",
   "execution_count": null,
   "id": "af89d2c9",
   "metadata": {},
   "outputs": [],
   "source": [
    "import os\n",
    "import torch\n",
    "import tkinter as tk\n",
    "from tkinter import filedialog\n",
    "import whisper\n",
    "\n",
    "#建立Tk主視窗，但隱藏\n",
    "root = tk.Tk()\n",
    "root.withdraw()\n",
    "root.attributes('-topmost', True)  #對話框出現在最前方\n",
    "\n",
    "#選擇音訊檔案\n",
    "current_dir = os.getcwd()\n",
    "file_path = filedialog.askopenfilename(\n",
    "    title=\"請選擇音訊檔案\",\n",
    "    initialdir=current_dir,\n",
    "    filetypes=[(\"音訊檔案\", \"*.wav *.mp3 *.m4a *.flac\"), (\"所有檔案\", \"*.*\")]\n",
    ")\n",
    "\n",
    "if not file_path:\n",
    "    print(\"未選擇檔案\")\n",
    "    exit()\n",
    "\n",
    "print(\"選擇的檔案:\", file_path)\n",
    "\n",
    "#載入Whisper模型\n",
    "if(torch.cuda.is_available()):\n",
    "    model = whisper.load_model(\"large-v3\", device=\"cuda\")\n",
    "else:\n",
    "    model = whisper.load_model(\"large-v3\", device=\"cpu\")\n",
    "\n",
    "#轉錄音訊，Whisper會自動偵測語言\n",
    "result = model.transcribe(file_path)\n",
    "print(\"偵測語言:\", result[\"language\"])\n",
    "\n",
    "#輸出資料夾:與音訊檔同一層\n",
    "audio_dir = os.path.dirname(file_path)\n",
    "\n",
    "#取得音訊檔名稱(不含副檔名)\n",
    "filename = os.path.splitext(os.path.basename(file_path))[0]\n",
    "\n",
    "#---SRT---\n",
    "with open(os.path.join(audio_dir, f\"{filename}.srt\"), \"w\", encoding=\"utf-8\") as f:\n",
    "    for i, seg in enumerate(result[\"segments\"], start=1):\n",
    "        text = seg['text'].strip()\n",
    "        if not text:\n",
    "            continue\n",
    "        f.write(f\"{i}\\n\")\n",
    "        start = seg[\"start\"]\n",
    "        end = seg[\"end\"]\n",
    "        start_time = f\"{int(start//3600):02}:{int((start%3600)//60):02}:{int(start%60):02},{int((start%1)*1000):03}\"\n",
    "        end_time = f\"{int(end//3600):02}:{int((end%3600)//60):02}:{int(end%60):02},{int((end%1)*1000):03}\"\n",
    "        f.write(f\"{start_time} --> {end_time}\\n\")\n",
    "        f.write(f\"{text}\\n\\n\")\n",
    "\n",
    "#---VTT---\n",
    "with open(os.path.join(audio_dir, f\"{filename}.vtt\"), \"w\", encoding=\"utf-8\") as f:\n",
    "    f.write(\"WEBVTT\\n\\n\")\n",
    "    for seg in result[\"segments\"]:\n",
    "        text = seg['text'].strip()\n",
    "        if not text:\n",
    "            continue\n",
    "        start = seg[\"start\"]\n",
    "        end = seg[\"end\"]\n",
    "        start_time = f\"{int(start//3600):02}:{int((start%3600)//60):02}:{int(start%60):02}.{int((start%1)*1000):03}\"\n",
    "        end_time = f\"{int(end//3600):02}:{int((end%3600)//60):02}:{int(end%60):02}.{int((end%1)*1000):03}\"\n",
    "        f.write(f\"{start_time} --> {end_time}\\n\")\n",
    "        f.write(f\"{text}\\n\\n\")\n",
    "\n",
    "#---TXT---\n",
    "with open(os.path.join(audio_dir, f\"{filename}.txt\"), \"w\", encoding=\"utf-8\") as f:\n",
    "    for seg in result[\"segments\"]:\n",
    "        text = seg['text'].strip()\n",
    "        if not text:\n",
    "            continue\n",
    "        start = seg[\"start\"]\n",
    "        end = seg[\"end\"]\n",
    "        start_time = f\"{int(start//3600):02}:{int((start%3600)//60):02}:{int(start%60):02}.{int((start%1)*1000):03}\"\n",
    "        end_time = f\"{int(end//3600):02}:{int((end%3600)//60):02}:{int(end%60):02}.{int((end%1)*1000):03}\"\n",
    "        f.write(f\"[{start_time} --> {end_time}] {text}\\n\")\n",
    "\n",
    "print(f\"已輸出至資料夾:{audio_dir}\")\n"
   ]
  },
  {
   "cell_type": "markdown",
   "id": "856680a0",
   "metadata": {},
   "source": [
    "### 分離功能至MusicSeparation.py內測試"
   ]
  },
  {
   "cell_type": "code",
   "execution_count": null,
   "id": "33574c61",
   "metadata": {},
   "outputs": [],
   "source": [
    "from MusicSeparation import MusicSeparation\n",
    "#MusicSeparation.run_ASR(r\"H:/NFU/score/score/output/Immortals/Immortals-vocals.wav\")    #若無傳入值則由使用者手動選取\n",
    "MusicSeparation.run_ASR()"
   ]
  },
  {
   "cell_type": "markdown",
   "id": "b14545df",
   "metadata": {},
   "source": [
    "## Whisper微調測試(官方範例)"
   ]
  },
  {
   "cell_type": "code",
   "execution_count": null,
   "id": "d5a69f3c",
   "metadata": {},
   "outputs": [],
   "source": [
    "from datasets import load_dataset, DatasetDict\n",
    "import pandas as pd\n",
    "\n",
    "common_voice = DatasetDict()\n",
    "\n",
    "#載入文件範例(\"mozilla-foundation/common_voice_11_0\"是線上的資料，要自己改)\n",
    "common_voice[\"train\"] = load_dataset(\"mozilla-foundation/common_voice_11_0\", \"hi\", split=\"train+validation\", trust_remote_code=True)\n",
    "common_voice[\"test\"] = load_dataset(\"mozilla-foundation/common_voice_11_0\", \"hi\", split=\"test\", trust_remote_code=True)\n",
    "\n",
    "#common_voice = pd.read_csv(\"processed_songs/metadata_all.csv\")\n",
    "common_voice[\"train\"][\"audio\"]"
   ]
  },
  {
   "cell_type": "markdown",
   "id": "90d3bfbc",
   "metadata": {},
   "source": [
    "### 這裡開始"
   ]
  },
  {
   "cell_type": "code",
   "execution_count": null,
   "id": "10216c41",
   "metadata": {},
   "outputs": [
    {
     "data": {
      "application/vnd.jupyter.widget-view+json": {
       "model_id": "ca7ce9f59dc74edea53790db3b3cbd61",
       "version_major": 2,
       "version_minor": 0
      },
      "text/plain": [
       "Generating train split: 0 examples [00:00, ? examples/s]"
      ]
     },
     "metadata": {},
     "output_type": "display_data"
    },
    {
     "name": "stdout",
     "output_type": "stream",
     "text": [
      "變數的型別: <class 'datasets.features._torchcodec.AudioDecoder'>\n",
      "--------------------\n",
      "音訊的採樣率: 16000\n",
      "音訊波形陣列 (前5個點): [-0.00033569  0.00146484 -0.00140381  0.00088501  0.00115967]\n",
      "--------------------\n",
      "強制解碼後，完整的變數內容:\n",
      "<datasets.features._torchcodec.AudioDecoder object at 0x000001C888CEE900>\n"
     ]
    }
   ],
   "source": [
    "import pandas as pd\n",
    "from datasets import load_dataset, Audio ,DatasetDict\n",
    "\n",
    "#讀取原始CSV\n",
    "df = pd.read_csv(\"processed_songs/metadata_all.csv\")\n",
    "\n",
    "#改欄位名稱符合Hugging Face標準\n",
    "df = df.rename(columns={\"file\": \"audio\", \"text\": \"sentence\"})\n",
    "df = df[[\"audio\",\"sentence\"]]\n",
    "\n",
    "#存成新的CSV\n",
    "df.to_csv(\"processed_songs/metadata_hf.csv\", index=False)\n",
    "\n",
    "#用Hugging Face載入新的CSV\n",
    "dataset = load_dataset(\n",
    "    \"csv\",\n",
    "    data_files={\"train\": \"processed_songs/metadata_hf.csv\"}\n",
    ")\n",
    "\n",
    "#直接在cast_column中指定目標採樣率\n",
    "#這會告訴datasets在讀取音檔時，自動解碼並重採樣到16000Hz\n",
    "dataset = dataset.cast_column(\"audio\", Audio(sampling_rate=16000))\n",
    "common_voice = dataset\n",
    "\n",
    "#---開始偵錯---\n",
    "\n",
    "#1.先把第一筆音訊資料取出來，存成一個變數\n",
    "first_audio_data = dataset[\"train\"][0][\"audio\"]\n",
    "\n",
    "#2.印出這個變數的「型別」，看看它到底是什麼\n",
    "print(\"變數的型別:\", type(first_audio_data))\n",
    "print(\"-\" * 20)\n",
    "\n",
    "#3.嘗試存取它裡面的key(例如\"sampling_rate\"或\"array\")\n",
    "#這個動作會「強制」datasets 去執行解碼和重採樣\n",
    "print(\"音訊的採樣率:\", first_audio_data[\"sampling_rate\"])\n",
    "print(\"音訊波形陣列 (前5個點):\", first_audio_data[\"array\"][:5])\n",
    "print(\"-\" * 20)\n",
    "\n",
    "#4.再次印出整個變數\n",
    "print(\"強制解碼後，完整的變數內容:\")\n",
    "print(first_audio_data)"
   ]
  },
  {
   "cell_type": "code",
   "execution_count": 2,
   "id": "34b30651",
   "metadata": {},
   "outputs": [],
   "source": [
    "#特徵提取器(預處理音檔)_選擇模型\n",
    "#模型輸出後處理為文字格式的分詞器\n",
    "#language要自己改\n",
    "from transformers import WhisperFeatureExtractor, WhisperTokenizer\n",
    "\n",
    "feature_extractor = WhisperFeatureExtractor.from_pretrained(\"openai/whisper-small\")\n",
    "tokenizer = WhisperTokenizer.from_pretrained(\"openai/whisper-small\", language=\"Chinese\", task=\"transcribe\")\n"
   ]
  },
  {
   "cell_type": "code",
   "execution_count": 3,
   "id": "48caa375",
   "metadata": {},
   "outputs": [
    {
     "name": "stdout",
     "output_type": "stream",
     "text": [
      "Input:                 塞納河\n",
      "Decoded w/ special:    <|startoftranscript|><|zh|><|transcribe|><|notimestamps|>塞納河<|endoftext|>\n",
      "Decoded w/out special: 塞納河\n",
      "Are equal:             True\n"
     ]
    }
   ],
   "source": [
    "input_str = common_voice[\"train\"][0][\"sentence\"]\n",
    "labels = tokenizer(input_str).input_ids\n",
    "decoded_with_special = tokenizer.decode(labels, skip_special_tokens=False)\n",
    "decoded_str = tokenizer.decode(labels, skip_special_tokens=True)\n",
    "\n",
    "print(f\"Input:                 {input_str}\")\n",
    "print(f\"Decoded w/ special:    {decoded_with_special}\")\n",
    "print(f\"Decoded w/out special: {decoded_str}\")\n",
    "print(f\"Are equal:             {input_str == decoded_str}\")"
   ]
  },
  {
   "cell_type": "code",
   "execution_count": 4,
   "id": "3fe78471",
   "metadata": {},
   "outputs": [],
   "source": [
    "from transformers import WhisperProcessor\n",
    "\"\"\"輸出格式範例(採樣率48K)\n",
    "{'audio': {'path': '/home/sanchit_huggingface_co/.cache/huggingface/datasets/downloads/extracted/607848c7e74a89a3b5225c0fa5ffb9470e39b7f11112db614962076a847f3abf/cv-corpus-11.0-2022-09-21/hi/clips/common_voice_hi_25998259.mp3', \n",
    "           'array': array([0.0000000e+00, 0.0000000e+00, 0.0000000e+00, ..., 9.6724887e-07,\n",
    "       1.5334779e-06, 1.0415988e-06], dtype=float32), \n",
    "           'sampling_rate': 48000},\n",
    " 'sentence': 'खीर की मिठास पर गरमाई बिहार की सियासत, कुशवाहा ने दी सफाई'}\n",
    "\"\"\"\n",
    "processor = WhisperProcessor.from_pretrained(\"openai/whisper-small\", language=\"zh\", task=\"transcribe\")\n",
    "\n",
    "#print(common_voice[\"train\"][0])"
   ]
  },
  {
   "cell_type": "code",
   "execution_count": 5,
   "id": "7bcd92d7",
   "metadata": {},
   "outputs": [
    {
     "name": "stdout",
     "output_type": "stream",
     "text": [
      "{'audio': <datasets.features._torchcodec.AudioDecoder object at 0x000001C89B801090>, 'sentence': '塞納河'}\n"
     ]
    }
   ],
   "source": [
    "#from datasets import Audio\n",
    "\"\"\"輸出格式範例(下採樣至16K)\n",
    "{'audio': {'path': '/home/sanchit_huggingface_co/.cache/huggingface/datasets/downloads/extracted/607848c7e74a89a3b5225c0fa5ffb9470e39b7f11112db614962076a847f3abf/cv-corpus-11.0-2022-09-21/hi/clips/common_voice_hi_25998259.mp3', \n",
    "           'array': array([ 0.0000000e+00,  0.0000000e+00,  0.0000000e+00, ...,\n",
    "       -3.4206650e-07,  3.2979898e-07,  1.0042874e-06], dtype=float32),\n",
    "           'sampling_rate': 16000},\n",
    " 'sentence': 'खीर की मिठास पर गरमाई बिहार की सियासत, कुशवाहा ने दी सफाई'}\n",
    "\"\"\"\n",
    "#common_voice = common_voice.cast_column(\"audio\", Audio(sampling_rate=16000))\n",
    "\n",
    "print(common_voice[\"train\"][0])"
   ]
  },
  {
   "cell_type": "code",
   "execution_count": null,
   "id": "57dbd77f",
   "metadata": {},
   "outputs": [
    {
     "data": {
      "application/vnd.jupyter.widget-view+json": {
       "model_id": "3176c670a7f049c2ac59e910347dd8a0",
       "version_major": 2,
       "version_minor": 0
      },
      "text/plain": [
       "Map (num_proc=14):   0%|          | 0/3518 [00:00<?, ? examples/s]"
      ]
     },
     "metadata": {},
     "output_type": "display_data"
    }
   ],
   "source": [
    "#初始化processor(包含feature_extractor + tokenizer)\n",
    "def prepare_dataset(batch):\n",
    "    from transformers import WhisperProcessor\n",
    "    import torch\n",
    "    processor = WhisperProcessor.from_pretrained(\"openai/whisper-small\", language=\"zh\", task=\"transcribe\")\n",
    "    audio = batch[\"audio\"]\n",
    "    batch[\"input_features\"] = processor.feature_extractor(audio[\"array\"], sampling_rate=audio[\"sampling_rate\"]).input_features[0]\n",
    "    batch[\"labels\"] = processor.tokenizer(batch[\"sentence\"]).input_ids\n",
    "    batch[\"labels\"] = torch.tensor(batch[\"labels\"], dtype=torch.long)\n",
    "    return batch\n",
    "\n",
    "common_voice = common_voice.map(\n",
    "    prepare_dataset,\n",
    "    remove_columns=common_voice[\"train\"].column_names,\n",
    "    num_proc=14\n",
    ")\n"
   ]
  },
  {
   "cell_type": "code",
   "execution_count": 8,
   "id": "f5d2fa18",
   "metadata": {},
   "outputs": [],
   "source": [
    "#定義數據收集器\n",
    "import torch\n",
    "\n",
    "from dataclasses import dataclass\n",
    "from typing import Any, Dict, List, Union\n",
    "\n",
    "@dataclass\n",
    "class DataCollatorSpeechSeq2SeqWithPadding:\n",
    "    processor: Any\n",
    "    decoder_start_token_id: int\n",
    "\n",
    "    def __call__(self, features: List[Dict[str, Union[List[int], torch.Tensor]]]) -> Dict[str, torch.Tensor]:\n",
    "        #split inputs and labels since they have to be of different lengths and need different padding methods\n",
    "        #first treat the audio inputs by simply returning torch tensors\n",
    "        input_features = [{\"input_features\": feature[\"input_features\"]} for feature in features]\n",
    "        batch = self.processor.feature_extractor.pad(input_features, return_tensors=\"pt\")\n",
    "\n",
    "        #get the tokenized label sequences\n",
    "        label_features = [{\"input_ids\": feature[\"labels\"]} for feature in features]\n",
    "        #pad the labels to max length\n",
    "        labels_batch = self.processor.tokenizer.pad(label_features, return_tensors=\"pt\")\n",
    "\n",
    "        #replace padding with -100 to ignore loss correctly\n",
    "        labels = labels_batch[\"input_ids\"].masked_fill(labels_batch.attention_mask.ne(1), -100)\n",
    "\n",
    "        #if bos token is appended in previous tokenization step,\n",
    "        #cut bos token here as it's append later anyways\n",
    "        if (labels[:, 0] == self.decoder_start_token_id).all().cpu().item():\n",
    "            labels = labels[:, 1:]\n",
    "\n",
    "        batch[\"labels\"] = labels\n",
    "\n",
    "        return batch"
   ]
  },
  {
   "cell_type": "code",
   "execution_count": 9,
   "id": "c2718455",
   "metadata": {},
   "outputs": [],
   "source": [
    "#初始化數據整理器\n",
    "data_collator = DataCollatorSpeechSeq2SeqWithPadding(\n",
    "    processor=processor,\n",
    "    decoder_start_token_id=processor.tokenizer.bos_token_id,  #Whisper的decoder開始token\n",
    ")"
   ]
  },
  {
   "cell_type": "code",
   "execution_count": null,
   "id": "29dd2670",
   "metadata": {},
   "outputs": [],
   "source": [
    "import evaluate\n",
    "\n",
    "#wer代表詞錯誤率\n",
    "metric = evaluate.load(\"wer\")\n",
    "\n",
    "#錯誤率評估函式\n",
    "def compute_metrics(pred):\n",
    "    #取出預測結果\n",
    "    pred_ids = pred.predictions\n",
    "    label_ids = pred.label_ids\n",
    "\n",
    "    #如果predictions是tuple(logits,...)\n",
    "    if isinstance(pred_ids, tuple):\n",
    "        pred_ids = pred_ids[0]\n",
    "\n",
    "    #如果是logits，取argmax\n",
    "    if pred_ids.ndim == 3:\n",
    "        pred_ids = pred_ids.argmax(-1)\n",
    "\n",
    "    #把-100換成pad_token_id\n",
    "    import numpy as np\n",
    "    label_ids = np.where(label_ids != -100, label_ids, tokenizer.pad_token_id)\n",
    "\n",
    "    #解碼成文字\n",
    "    pred_str = tokenizer.batch_decode(pred_ids, skip_special_tokens=True)\n",
    "    label_str = tokenizer.batch_decode(label_ids, skip_special_tokens=True)\n",
    "\n",
    "    #計算WER\n",
    "    wer = 100 * metric.compute(predictions=pred_str, references=label_str)\n",
    "    return {\"wer\": wer}\n"
   ]
  },
  {
   "cell_type": "code",
   "execution_count": 11,
   "id": "42ae3dab",
   "metadata": {},
   "outputs": [],
   "source": [
    "#載入預訓練checkpoint\n",
    "from transformers import WhisperForConditionalGeneration\n",
    "\n",
    "#模型自己改\n",
    "model = WhisperForConditionalGeneration.from_pretrained(\"openai/whisper-small\")\n",
    "\n",
    "model.config.forced_decoder_ids = None\n",
    "model.config.suppress_tokens = []"
   ]
  },
  {
   "cell_type": "code",
   "execution_count": 16,
   "id": "11d03ebe",
   "metadata": {},
   "outputs": [],
   "source": [
    "from transformers import Seq2SeqTrainingArguments\n",
    "\n",
    "#如果不想將模型checkpoint上傳到Hub，設定push_to_hub=False\n",
    "training_args = Seq2SeqTrainingArguments(\n",
    "    output_dir=\"./whisper-small-zh\",  #change to a repo name of your choice\n",
    "    per_device_train_batch_size=8, #如果出現OOM(顯存超載)錯誤將此減半\n",
    "    gradient_accumulation_steps=2,  #並將此乘2\n",
    "    learning_rate=1e-5,\n",
    "    warmup_steps=500,\n",
    "    max_steps=5000,\n",
    "    gradient_checkpointing=False,\n",
    "    fp16=True,\n",
    "    eval_strategy=\"steps\",\n",
    "    per_device_eval_batch_size=8,\n",
    "    predict_with_generate=True,\n",
    "    generation_max_length=225,\n",
    "    save_steps=1000,\n",
    "    eval_steps=1000,\n",
    "    logging_steps=25,\n",
    "    report_to=[\"tensorboard\"],\n",
    "    load_best_model_at_end=True,\n",
    "    metric_for_best_model=\"wer\",\n",
    "    greater_is_better=False,\n",
    "    push_to_hub=False,\n",
    ")"
   ]
  },
  {
   "cell_type": "code",
   "execution_count": null,
   "id": "baa1e0e7",
   "metadata": {},
   "outputs": [],
   "source": [
    "#從訓練資料集中抓出測試資料\n",
    "common_voice = common_voice[\"train\"].train_test_split(test_size=0.1)"
   ]
  },
  {
   "cell_type": "code",
   "execution_count": 17,
   "id": "06364549",
   "metadata": {},
   "outputs": [
    {
     "name": "stderr",
     "output_type": "stream",
     "text": [
      "C:\\Users\\a0987\\AppData\\Local\\Temp\\ipykernel_65288\\240849381.py:3: FutureWarning: `tokenizer` is deprecated and will be removed in version 5.0.0 for `Seq2SeqTrainer.__init__`. Use `processing_class` instead.\n",
      "  trainer = Seq2SeqTrainer(\n"
     ]
    }
   ],
   "source": [
    "from transformers import Seq2SeqTrainer\n",
    "\n",
    "trainer = Seq2SeqTrainer(\n",
    "    args=training_args,\n",
    "    model=model,\n",
    "    train_dataset=common_voice[\"train\"],\n",
    "    eval_dataset=common_voice[\"test\"],\n",
    "    data_collator=data_collator,\n",
    "    compute_metrics=compute_metrics,\n",
    "    tokenizer=processor.feature_extractor,\n",
    ")"
   ]
  },
  {
   "cell_type": "code",
   "execution_count": 18,
   "id": "5dcd1214",
   "metadata": {},
   "outputs": [
    {
     "data": {
      "text/html": [
       "\n",
       "    <div>\n",
       "      \n",
       "      <progress value='5000' max='5000' style='width:300px; height:20px; vertical-align: middle;'></progress>\n",
       "      [5000/5000 4:03:12, Epoch 25/26]\n",
       "    </div>\n",
       "    <table border=\"1\" class=\"dataframe\">\n",
       "  <thead>\n",
       " <tr style=\"text-align: left;\">\n",
       "      <th>Step</th>\n",
       "      <th>Training Loss</th>\n",
       "      <th>Validation Loss</th>\n",
       "      <th>Wer</th>\n",
       "    </tr>\n",
       "  </thead>\n",
       "  <tbody>\n",
       "    <tr>\n",
       "      <td>1000</td>\n",
       "      <td>0.092900</td>\n",
       "      <td>0.752077</td>\n",
       "      <td>58.659218</td>\n",
       "    </tr>\n",
       "    <tr>\n",
       "      <td>2000</td>\n",
       "      <td>0.006100</td>\n",
       "      <td>0.833569</td>\n",
       "      <td>58.100559</td>\n",
       "    </tr>\n",
       "    <tr>\n",
       "      <td>3000</td>\n",
       "      <td>0.000100</td>\n",
       "      <td>0.869361</td>\n",
       "      <td>55.307263</td>\n",
       "    </tr>\n",
       "    <tr>\n",
       "      <td>4000</td>\n",
       "      <td>0.000100</td>\n",
       "      <td>0.883776</td>\n",
       "      <td>56.424581</td>\n",
       "    </tr>\n",
       "    <tr>\n",
       "      <td>5000</td>\n",
       "      <td>0.000100</td>\n",
       "      <td>0.889415</td>\n",
       "      <td>56.983240</td>\n",
       "    </tr>\n",
       "  </tbody>\n",
       "</table><p>"
      ],
      "text/plain": [
       "<IPython.core.display.HTML object>"
      ]
     },
     "metadata": {},
     "output_type": "display_data"
    },
    {
     "name": "stderr",
     "output_type": "stream",
     "text": [
      "Using custom `forced_decoder_ids` from the (generation) config. This is deprecated in favor of the `task` and `language` flags/config options.\n",
      "Transcription using a multilingual Whisper will default to language detection followed by transcription instead of translation to English. This might be a breaking change for your use case. If you want to instead always translate your audio to English, make sure to pass `language='en'`. See https://github.com/huggingface/transformers/pull/28687 for more details.\n",
      "The attention mask is not set and cannot be inferred from input because pad token is same as eos token. As a consequence, you may observe unexpected behavior. Please pass your input's `attention_mask` to obtain reliable results.\n",
      "c:\\Users\\a0987\\anaconda3\\envs\\aligner\\Lib\\site-packages\\transformers\\modeling_utils.py:4037: UserWarning: Moving the following attributes in the config to the generation config: {'max_length': 448, 'suppress_tokens': [], 'begin_suppress_tokens': [220, 50257]}. You are seeing this warning because you've set generation parameters in the model config, as opposed to in the generation config.\n",
      "  warnings.warn(\n",
      "There were missing keys in the checkpoint model loaded: ['proj_out.weight'].\n"
     ]
    },
    {
     "data": {
      "text/plain": [
       "TrainOutput(global_step=5000, training_loss=0.4101779097528663, metrics={'train_runtime': 14601.5638, 'train_samples_per_second': 5.479, 'train_steps_per_second': 0.342, 'total_flos': 2.3072402755584e+19, 'train_loss': 0.4101779097528663, 'epoch': 25.252525252525253})"
      ]
     },
     "execution_count": 18,
     "metadata": {},
     "output_type": "execute_result"
    }
   ],
   "source": [
    "#訓練模型\n",
    "trainer.train()"
   ]
  },
  {
   "cell_type": "code",
   "execution_count": 19,
   "id": "da0e29a1",
   "metadata": {},
   "outputs": [],
   "source": [
    "#設定上傳模型數值\n",
    "kwargs = {\n",
    "    \"dataset_tags\": \"Zzzkay1/song\", #標籤，記得改\n",
    "    \"dataset\": \"Chinese songs * 14\",  #a 'pretty' name for the training dataset (翻譯)給資料集設定一個你喜歡的名子\n",
    "    \"dataset_args\": \"config: zh, split: test\",\n",
    "    \"language\": \"zh\", #語言自己改\n",
    "    \"model_name\": \"Whisper Small zh - Song train\",  #a 'pretty' name for your model (翻譯)給模型一個好名子\n",
    "    \"finetuned_from\": \"openai/whisper-small\",\n",
    "    \"tasks\": \"automatic-speech-recognition\",\n",
    "}"
   ]
  },
  {
   "cell_type": "markdown",
   "id": "be5ad842",
   "metadata": {},
   "source": [
    "### 上傳"
   ]
  },
  {
   "cell_type": "code",
   "execution_count": null,
   "id": "0b665ac6",
   "metadata": {},
   "outputs": [
    {
     "data": {
      "text/plain": [
       "CommitInfo(commit_url='https://huggingface.co/Zzzkay1/whisper-small-zh/commit/5da4daebedba65014b675cca7283b4094da1cd88', commit_message='End of training', commit_description='', oid='5da4daebedba65014b675cca7283b4094da1cd88', pr_url=None, repo_url=RepoUrl('https://huggingface.co/Zzzkay1/whisper-small-zh', endpoint='https://huggingface.co', repo_type='model', repo_id='Zzzkay1/whisper-small-zh'), pr_revision=None, pr_num=None)"
      ]
     },
     "execution_count": 23,
     "metadata": {},
     "output_type": "execute_result"
    }
   ],
   "source": [
    "#儲存模型pipeline使用的資料\n",
    "processor.save_pretrained(\"./whisper-small-zh\")\n",
    "#上傳模型\n",
    "trainer.push_to_hub(**kwargs)"
   ]
  },
  {
   "cell_type": "markdown",
   "id": "c101b244",
   "metadata": {},
   "source": [
    "### 訓練完後如何使用"
   ]
  },
  {
   "cell_type": "code",
   "execution_count": 8,
   "id": "c5fac795",
   "metadata": {},
   "outputs": [
    {
     "name": "stderr",
     "output_type": "stream",
     "text": [
      "Device set to use cuda:0\n"
     ]
    },
    {
     "name": "stdout",
     "output_type": "stream",
     "text": [
      "* Running on local URL:  http://127.0.0.1:7864\n",
      "* To create a public link, set `share=True` in `launch()`.\n"
     ]
    },
    {
     "data": {
      "text/html": [
       "<div><iframe src=\"http://127.0.0.1:7864/\" width=\"100%\" height=\"500\" allow=\"autoplay; camera; microphone; clipboard-read; clipboard-write;\" frameborder=\"0\" allowfullscreen></iframe></div>"
      ],
      "text/plain": [
       "<IPython.core.display.HTML object>"
      ]
     },
     "metadata": {},
     "output_type": "display_data"
    },
    {
     "data": {
      "text/plain": []
     },
     "execution_count": 8,
     "metadata": {},
     "output_type": "execute_result"
    },
    {
     "name": "stdout",
     "output_type": "stream",
     "text": [
      "已儲存：h:\\NFU\\score\\score/output\\周杰倫 Jay Chou【蘭亭序 Lan-Ting-Xu】-Official Music Video\\周杰倫 Jay Chou【蘭亭序 Lan-Ting-Xu】-Official Music Video-vocals.wav\n",
      "已儲存：h:\\NFU\\score\\score/output\\周杰倫 Jay Chou【蘭亭序 Lan-Ting-Xu】-Official Music Video\\周杰倫 Jay Chou【蘭亭序 Lan-Ting-Xu】-Official Music Video-other.wav\n"
     ]
    },
    {
     "name": "stderr",
     "output_type": "stream",
     "text": [
      "Whisper did not predict an ending timestamp, which can happen if audio is cut off in the middle of a word. Also make sure WhisperTimeStampLogitsProcessor was used during generation.\n"
     ]
    }
   ],
   "source": [
    "from transformers import pipeline\n",
    "from YouTubeDownload import YouTubeDownload\n",
    "from MusicSeparation import MusicSeparation\n",
    "import os\n",
    "import gradio as gr\n",
    "if True:\n",
    "    tempmodel = \"Zzzkay1/whisper-small-zh\"\n",
    "else:\n",
    "    tempmodel = \"openai/whisper-small\"\n",
    "pipe = pipeline(\n",
    "    \"automatic-speech-recognition\",\n",
    "    model=tempmodel,#改成你自己的模型tag\n",
    "    return_timestamps=True,\n",
    ")\n",
    "\n",
    "def fun(url1):\n",
    "    audio = YouTubeDownload.download_youtube_audio(url1)\n",
    "    video = YouTubeDownload.download_youtube_video(url1)\n",
    "    separtionMusic = MusicSeparation.run_separation(audio)\n",
    "    merge = YouTubeDownload.merge_video_audio(video_path=video, audio_path=separtionMusic[0])\n",
    "\n",
    "    #去掉多餘的引號&替換不合法字元\n",
    "    merge = merge.strip('\"').strip(\"'\")\n",
    "    safe_name = os.path.basename(merge).replace(\"／\", \"_\").replace(\"/\", \"_\").replace(\"\\\\\", \"_\")\n",
    "    \n",
    "    output_dir = \"output\"\n",
    "    os.makedirs(output_dir, exist_ok=True)\n",
    "    out_path = os.path.join(output_dir, safe_name)\n",
    "\n",
    "    if merge != out_path:\n",
    "        try:\n",
    "            os.replace(merge, out_path)  #搬移檔案\n",
    "        except Exception as e:\n",
    "            print(\"搬檔失敗:\", e)\n",
    "            out_path = merge  #如果搬失敗，就還是用原本路徑\n",
    "\n",
    "    if not os.path.exists(out_path):\n",
    "        return f\"檔案不存在: {out_path}\"\n",
    "\n",
    "    results = pipe(separtionMusic[1])[\"text\"]\n",
    "    #return out_path  #給gr.Video()\n",
    "    with open(\"OutputFile.txt\",\"w\",encoding=\"utf-8\") as f:\n",
    "        f.write(\"\\n\".join(result))\n",
    "    return results\n",
    "\"\"\"\n",
    "沒用\n",
    "def transcribe(audio):\n",
    "    text = pipe(audio)[\"text\"]\n",
    "    return text\n",
    "\"\"\"\n",
    "\n",
    "iface = gr.Interface(\n",
    "    fn=fun,\n",
    "    inputs=gr.Textbox(lines=1, placeholder=\"請輸入YouTube連結\"), #輸入文字區\n",
    "    outputs=\"text\", #輸出為文字\n",
    "    title=\"Whisper Small zh\", #標題自訂\n",
    "    description=\"Realtime demo for zh speech recognition using a fine-tuned Whisper small model.\", #描述自訂\n",
    ")\n",
    "    \n",
    "iface.launch() #啟動"
   ]
  },
  {
   "cell_type": "markdown",
   "id": "09f94290",
   "metadata": {},
   "source": [
    "## 人聲分離顯存佔用最佳化測試"
   ]
  },
  {
   "cell_type": "code",
   "execution_count": null,
   "id": "913411d7",
   "metadata": {},
   "outputs": [],
   "source": [
    "import torch\n",
    "import torchaudio\n",
    "from torchaudio.pipelines import HDEMUCS_HIGH_MUSDB\n",
    "from torchaudio.models import hdemucs_high\n",
    "from psutil import virtual_memory\n",
    "import subprocess\n",
    "import os\n",
    "import soundfile as sf\n",
    "from torchaudio.transforms import Fade\n",
    "\n",
    "def _separate_sources(model, mix, sample_rate, device, segment=15.0, overlap=0.1):\n",
    "    \"\"\"\n",
    "    分段執行音源分離，避免一次丟整首造成爆顯存\n",
    "    \"\"\"\n",
    "    batch, channels, length = mix.shape\n",
    "\n",
    "    chunk_len = int(sample_rate * segment * (1 + overlap))\n",
    "    start = 0\n",
    "    end = chunk_len\n",
    "    overlap_frames = int(overlap * sample_rate)\n",
    "    fade = Fade(fade_in_len=0, fade_out_len=overlap_frames, fade_shape=\"linear\")\n",
    "\n",
    "    final = torch.zeros(batch, len(model.sources), channels, length, device=device)\n",
    "\n",
    "    while start < length - overlap_frames:\n",
    "        chunk = mix[:, :, start:end]\n",
    "        with torch.no_grad():\n",
    "            out = model.forward(chunk)\n",
    "        out = fade(out)\n",
    "        final[:, :, :, start:end] += out\n",
    "\n",
    "        if start == 0:\n",
    "            fade.fade_in_len = overlap_frames\n",
    "            start += chunk_len - overlap_frames\n",
    "        else:\n",
    "            start += chunk_len\n",
    "        end += chunk_len\n",
    "        if end >= length:\n",
    "            fade.fade_out_len = 0\n",
    "\n",
    "    return final\n",
    "\n",
    "def run_separation(audio_path, segment = 15.0, use_cuda = True):\n",
    "    try:\n",
    "        bundle = HDEMUCS_HIGH_MUSDB\n",
    "        model = bundle.get_model()\n",
    "    except Exception as e:\n",
    "        return e\n",
    "\n",
    "    try:\n",
    "        GPUmem = torch.cuda.mem_get_info()[1] / 1024 / 1024 / 1024\n",
    "        SYSmem = virtual_memory().total / 1024 / 1024 / 1024 / 2\n",
    "        if torch.cuda.is_available() and GPUmem > 2 and use_cuda:\n",
    "            device = torch.device(\"cuda\")\n",
    "        else:\n",
    "            device = torch.device(\"cpu\")\n",
    "        model = model.to(device)\n",
    "\n",
    "        input_file = audio_path.strip('\"')\n",
    "        if not os.path.exists(input_file):\n",
    "            return f\"找不到輸入檔案：{input_file}\"\n",
    "\n",
    "        ext = os.path.splitext(input_file)[1].lower()\n",
    "        if ext == '.wav':\n",
    "            waveform, sample_rate = torchaudio.load(input_file)\n",
    "        else:\n",
    "            temp_wav = \"temp_convert.wav\"\n",
    "            try:\n",
    "                subprocess.run([\n",
    "                    \"ffmpeg\", \"-y\", \"-i\", input_file, \"-acodec\", \"pcm_s16le\", \"-ar\", \"44100\", temp_wav\n",
    "                ], check=True, stdout=subprocess.PIPE, stderr=subprocess.PIPE)\n",
    "                data, sample_rate = sf.read(temp_wav, dtype='float32')\n",
    "                if data.ndim == 1:\n",
    "                    data = data[:, None]\n",
    "                waveform = torch.from_numpy(data.T)\n",
    "            except subprocess.CalledProcessError as ffmpeg_err:\n",
    "                return ffmpeg_err\n",
    "            finally:\n",
    "                if os.path.exists(temp_wav):\n",
    "                    os.remove(temp_wav)\n",
    "\n",
    "        if sample_rate != bundle.sample_rate:\n",
    "            resampler = torchaudio.transforms.Resample(orig_freq=sample_rate, new_freq=bundle.sample_rate)\n",
    "            waveform = resampler(waveform)\n",
    "            sample_rate = bundle.sample_rate\n",
    "\n",
    "        waveform = waveform.to(device)\n",
    "\n",
    "        #🔹 使用分段方式做分離（segment=15s, overlap=0.1）\n",
    "        sources = _separate_sources(\n",
    "            model=model,\n",
    "            mix=waveform.unsqueeze(0),\n",
    "            segment = segment,\n",
    "            sample_rate=sample_rate,\n",
    "            device=device\n",
    "        )[0]\n",
    "\n",
    "        base_name = os.path.splitext(os.path.basename(input_file))[0]\n",
    "        output_dir = os.path.join(os.getcwd(), \"score/output\", base_name)\n",
    "        os.makedirs(output_dir, exist_ok=True)\n",
    "\n",
    "        other_mix = sources[0] + sources[1] + sources[2]\n",
    "        vocals = sources[3]\n",
    "\n",
    "        torchaudio.save(os.path.join(output_dir, base_name + '-vocals.wav'), vocals.cpu(), sample_rate)\n",
    "        torchaudio.save(os.path.join(output_dir, base_name + '-other.wav'), other_mix.cpu(), sample_rate)\n",
    "\n",
    "        print(f\"已儲存：{os.path.join(output_dir, base_name + '-vocals.wav')}\")\n",
    "        print(f\"已儲存：{os.path.join(output_dir, base_name + '-other.wav')}\")\n",
    "\n",
    "        del sources\n",
    "        del waveform\n",
    "        torch.cuda.empty_cache()\n",
    "\n",
    "        output = [\n",
    "            f\"{os.path.join(output_dir, base_name + '-other.wav')}\",\n",
    "            f\"{os.path.join(output_dir, base_name + '-vocals.wav')}\"\n",
    "        ]\n",
    "        return output\n",
    "\n",
    "    except Exception as e:\n",
    "        try:\n",
    "            if 'sources' in locals():\n",
    "                del sources\n",
    "            if 'waveform' in locals():\n",
    "                del waveform\n",
    "        except:\n",
    "            pass\n",
    "        torch.cuda.empty_cache()\n",
    "        return e\n"
   ]
  },
  {
   "cell_type": "code",
   "execution_count": null,
   "id": "a16dccc3",
   "metadata": {},
   "outputs": [],
   "source": [
    "run_separation(r\"H:\\NFU\\score\\download\\MIMI - サイエンス (feat.重音テトSV).m4a\", segment=15, use_cuda=True)"
   ]
  },
  {
   "cell_type": "markdown",
   "id": "de529a2d",
   "metadata": {},
   "source": [
    "## 網頁測試(暫定)"
   ]
  },
  {
   "cell_type": "code",
   "execution_count": null,
   "id": "aa7c122f",
   "metadata": {},
   "outputs": [],
   "source": [
    "import gradio as gr\n",
    "import os\n",
    "from MusicSeparation import MusicSeparation\n",
    "from YouTubeDownload import YouTubeDownload\n",
    "\n",
    "def fun(url1):\n",
    "    audio = YouTubeDownload.download_youtube_audio(url1)\n",
    "    video = YouTubeDownload.download_youtube_video(url1)\n",
    "    separtionMusic = MusicSeparation.run_separation(audio)\n",
    "    merge = YouTubeDownload.merge_video_audio(video_path=video, audio_path=separtionMusic[0])\n",
    "\n",
    "    #去掉多餘的引號 & 替換不合法字元\n",
    "    merge = merge.strip('\"').strip(\"'\")\n",
    "    safe_name = os.path.basename(merge).replace(\"／\", \"_\").replace(\"/\", \"_\").replace(\"\\\\\", \"_\")\n",
    "    \n",
    "    output_dir = \"output\"\n",
    "    os.makedirs(output_dir, exist_ok=True)\n",
    "    out_path = os.path.join(output_dir, safe_name)\n",
    "\n",
    "    if merge != out_path:\n",
    "        try:\n",
    "            os.replace(merge, out_path)  #搬移檔案\n",
    "        except Exception as e:\n",
    "            print(\"搬檔失敗:\", e)\n",
    "            out_path = merge  #如果搬失敗，就還是用原本路徑\n",
    "\n",
    "    if not os.path.exists(out_path):\n",
    "        return f\"檔案不存在: {out_path}\"\n",
    "\n",
    "    return out_path  #給 gr.Video()\n",
    "\n",
    "\n",
    "iface = gr.Interface(\n",
    "    fn=fun,\n",
    "    inputs=gr.Textbox(lines=1, placeholder=\"請輸入YouTube連結\"),\n",
    "    outputs=gr.Video(),\n",
    "    title=\"哈哈標題\",\n",
    "    description=\"輸入Youtube連結自動下載並分離人聲及音樂\",\n",
    ")\n",
    "\n",
    "iface.launch()"
   ]
  }
 ],
 "metadata": {
  "kernelspec": {
   "display_name": "aligner",
   "language": "python",
   "name": "python3"
  },
  "language_info": {
   "codemirror_mode": {
    "name": "ipython",
    "version": 3
   },
   "file_extension": ".py",
   "mimetype": "text/x-python",
   "name": "python",
   "nbconvert_exporter": "python",
   "pygments_lexer": "ipython3",
   "version": "3.13.7"
  }
 },
 "nbformat": 4,
 "nbformat_minor": 5
}
