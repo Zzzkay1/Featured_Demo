{
 "cells": [
  {
   "cell_type": "markdown",
   "id": "4a39fb56",
   "metadata": {},
   "source": [
    "# 主要是測試各種功能用的，自行增加區塊來測試(記得加註解)"
   ]
  },
  {
   "cell_type": "markdown",
   "id": "133d0455",
   "metadata": {},
   "source": [
    "## torch測試及可用顯存測試"
   ]
  },
  {
   "cell_type": "code",
   "execution_count": null,
   "id": "22be0c73",
   "metadata": {},
   "outputs": [],
   "source": [
    "import torch\n",
    "from psutil import virtual_memory\n",
    "print(torch.cuda.is_available())\n",
    "GPUmem = torch.cuda.mem_get_info()\n",
    "mem = GPUmem[1] /1024 / 1024 / 1024\n",
    "mem += virtual_memory().total /1024 / 1024 / 1024 / 2\n",
    "mem"
   ]
  },
  {
   "cell_type": "markdown",
   "id": "98f642b7",
   "metadata": {},
   "source": [
    "## 功能檔案分離測試"
   ]
  },
  {
   "cell_type": "code",
   "execution_count": null,
   "id": "deafc1e6",
   "metadata": {},
   "outputs": [],
   "source": [
    "import WebDisplay\n",
    "data = {\n",
    "    'name': 'example',\n",
    "    'value': 42,\n",
    "    'status': 'active'\n",
    "}\n",
    "web_display = WebDisplay.WebDisplay(data)\n",
    "web_display.print_data()"
   ]
  },
  {
   "cell_type": "markdown",
   "id": "10b74062",
   "metadata": {},
   "source": [
    "## 下載YouTube影片及聲音測試"
   ]
  },
  {
   "cell_type": "code",
   "execution_count": null,
   "id": "8a5785eb",
   "metadata": {},
   "outputs": [],
   "source": [
    "from bs4 import BeautifulSoup\n",
    "from pytubefix import YouTube\n",
    "yt = YouTube('https://music.youtube.com/watch?v=NycFr6D6DSw&si=przy_9oxIVQs5HI9')\n",
    "print('download...')\n",
    "yt.streams.get_audio_only().download(output_path='download/')   #下載音訊\n",
    "print('ok!')"
   ]
  },
  {
   "cell_type": "code",
   "execution_count": null,
   "id": "f0cef878",
   "metadata": {},
   "outputs": [],
   "source": [
    "acc = yt.streams.get_audio_only()\n",
    "acc.download(output_path='download/')   #下載音訊"
   ]
  },
  {
   "cell_type": "markdown",
   "id": "ba12e2bb",
   "metadata": {},
   "source": [
    "### 加入手動輸入連結"
   ]
  },
  {
   "cell_type": "code",
   "execution_count": 6,
   "id": "c1b7570f",
   "metadata": {},
   "outputs": [],
   "source": [
    "url = input()"
   ]
  },
  {
   "cell_type": "code",
   "execution_count": 7,
   "id": "161cd59c",
   "metadata": {},
   "outputs": [
    {
     "name": "stdout",
     "output_type": "stream",
     "text": [
      "已儲存：h:\\NFU\\score\\score/output\\Self Control by amatsukauto ໒꒱· ﾟ 【orignal】\\Self Control by amatsukauto ໒꒱· ﾟ 【orignal】-vocals.wav\n",
      "已儲存：h:\\NFU\\score\\score/output\\Self Control by amatsukauto ໒꒱· ﾟ 【orignal】\\Self Control by amatsukauto ໒꒱· ﾟ 【orignal】-other.wav\n",
      "\"h:\\NFU\\score\\download\\Self Control by amatsukauto ໒꒱· ﾟ 【orignal】.mp4\" \"h:\\NFU\\score\\download\\Self Control by amatsukauto ໒꒱· ﾟ 【orignal】.m4a\" \"h:\\NFU\\score\\download\\Self Control by amatsukauto ໒꒱· ﾟ 【orignal】_merged.mp4\" h:\\NFU\\score\\score/output\\Self Control by amatsukauto ໒꒱· ﾟ 【orignal】\\Self Control by amatsukauto ໒꒱· ﾟ 【orignal】-other.wav\n"
     ]
    },
    {
     "data": {
      "text/plain": [
       "'h:\\\\NFU\\\\score\\\\score/output\\\\Self Control by amatsukauto ໒꒱· ﾟ 【orignal】\\\\Self Control by amatsukauto ໒꒱· ﾟ 【orignal】-other.wav'"
      ]
     },
     "execution_count": 7,
     "metadata": {},
     "output_type": "execute_result"
    }
   ],
   "source": [
    "from YouTubeDownload import YouTubeDownload\n",
    "from MusicSeparation import MusicSeparation\n",
    "import os\n",
    "vedio = YouTubeDownload.download_youtube_video(url)\n",
    "audio = YouTubeDownload.download_youtube_audio(url)\n",
    "separation_audio = MusicSeparation.run_separation(audio)\n",
    "merge = YouTubeDownload.merge_video_audio(vedio, separation_audio)\n",
    "print(vedio, audio , merge, separation_audio)\n",
    "#os.system(merge)\n",
    "separation_audio"
   ]
  },
  {
   "cell_type": "code",
   "execution_count": 3,
   "id": "88b475eb",
   "metadata": {},
   "outputs": [
    {
     "data": {
      "text/plain": [
       "'\"h:\\\\NFU\\\\score\\\\download\\\\【MUTA 嫣汐】《嫣橙色》PV【Yunomi】.m4a\"'"
      ]
     },
     "execution_count": 3,
     "metadata": {},
     "output_type": "execute_result"
    }
   ],
   "source": [
    "os.system(merge)\n",
    "audio"
   ]
  },
  {
   "cell_type": "markdown",
   "id": "157fc344",
   "metadata": {},
   "source": [
    "### 整合ASR辨識"
   ]
  },
  {
   "cell_type": "code",
   "execution_count": 8,
   "id": "699eb8d9",
   "metadata": {},
   "outputs": [
    {
     "name": "stdout",
     "output_type": "stream",
     "text": [
      "選擇的檔案: h:\\NFU\\score\\score/output\\Self Control by amatsukauto ໒꒱· ﾟ 【orignal】\\Self Control by amatsukauto ໒꒱· ﾟ 【orignal】-other.wav\n",
      "偵測語言: ja\n",
      "已輸出至資料夾:h:\\NFU\\score\\score/output\\Self Control by amatsukauto ໒꒱· ﾟ 【orignal】\n"
     ]
    },
    {
     "data": {
      "text/plain": [
       "'h:\\\\NFU\\\\score\\\\score/output\\\\Self Control by amatsukauto ໒꒱· ﾟ 【orignal】Self Control by amatsukauto ໒꒱· ﾟ 【orignal】-other.srt'"
      ]
     },
     "execution_count": 8,
     "metadata": {},
     "output_type": "execute_result"
    }
   ],
   "source": [
    "MusicSeparation.run_ASR(separation_audio)"
   ]
  },
  {
   "cell_type": "markdown",
   "id": "1a1c3037",
   "metadata": {},
   "source": [
    "## NeMo測試(確認無用)"
   ]
  },
  {
   "cell_type": "code",
   "execution_count": null,
   "id": "5b70ceea",
   "metadata": {},
   "outputs": [],
   "source": [
    "import nemo\n",
    "import nemo.collections.asr as nemo_asr\n",
    "\n",
    "print(nemo.__version__)\n"
   ]
  },
  {
   "cell_type": "markdown",
   "id": "8e2e338a",
   "metadata": {},
   "source": [
    "## 字幕辨識測試"
   ]
  },
  {
   "cell_type": "code",
   "execution_count": null,
   "id": "6c36de75",
   "metadata": {},
   "outputs": [],
   "source": [
    "import whisper\n",
    "whisper.available_models()"
   ]
  },
  {
   "cell_type": "code",
   "execution_count": 3,
   "id": "af89d2c9",
   "metadata": {},
   "outputs": [
    {
     "name": "stdout",
     "output_type": "stream",
     "text": [
      "選擇的檔案: H:/NFU/score/score/output/TNT时代少年团 X 优酸乳《Lemon》认人歌词版 CN_PIN_ENG｜嚼柠檬主题曲中文版/TNT时代少年团 X 优酸乳《Lemon》认人歌词版 CN_PIN_ENG｜嚼柠檬主题曲中文版-vocals.wav\n",
      "偵測語言: zh\n",
      "已輸出至資料夾:H:/NFU/score/score/output/TNT时代少年团 X 优酸乳《Lemon》认人歌词版 CN_PIN_ENG｜嚼柠檬主题曲中文版\n"
     ]
    }
   ],
   "source": [
    "import os\n",
    "import torch\n",
    "import tkinter as tk\n",
    "from tkinter import filedialog\n",
    "import whisper\n",
    "\n",
    "#建立Tk主視窗，但隱藏\n",
    "root = tk.Tk()\n",
    "root.withdraw()\n",
    "root.attributes('-topmost', True)  #對話框出現在最前方\n",
    "\n",
    "#選擇音訊檔案\n",
    "current_dir = os.getcwd()\n",
    "file_path = filedialog.askopenfilename(\n",
    "    title=\"請選擇音訊檔案\",\n",
    "    initialdir=current_dir,\n",
    "    filetypes=[(\"音訊檔案\", \"*.wav *.mp3 *.m4a *.flac\"), (\"所有檔案\", \"*.*\")]\n",
    ")\n",
    "\n",
    "if not file_path:\n",
    "    print(\"未選擇檔案\")\n",
    "    exit()\n",
    "\n",
    "print(\"選擇的檔案:\", file_path)\n",
    "\n",
    "#載入Whisper模型\n",
    "if(torch.cuda.is_available()):\n",
    "    model = whisper.load_model(\"large-v3\", device=\"cuda\")\n",
    "else:\n",
    "    model = whisper.load_model(\"large-v3\", device=\"cpu\")\n",
    "\n",
    "#轉錄音訊，Whisper會自動偵測語言\n",
    "result = model.transcribe(file_path)\n",
    "print(\"偵測語言:\", result[\"language\"])\n",
    "\n",
    "#輸出資料夾:與音訊檔同一層\n",
    "audio_dir = os.path.dirname(file_path)\n",
    "\n",
    "#取得音訊檔名稱(不含副檔名)\n",
    "filename = os.path.splitext(os.path.basename(file_path))[0]\n",
    "\n",
    "#---SRT---\n",
    "with open(os.path.join(audio_dir, f\"{filename}.srt\"), \"w\", encoding=\"utf-8\") as f:\n",
    "    for i, seg in enumerate(result[\"segments\"], start=1):\n",
    "        text = seg['text'].strip()\n",
    "        if not text:\n",
    "            continue\n",
    "        f.write(f\"{i}\\n\")\n",
    "        start = seg[\"start\"]\n",
    "        end = seg[\"end\"]\n",
    "        start_time = f\"{int(start//3600):02}:{int((start%3600)//60):02}:{int(start%60):02},{int((start%1)*1000):03}\"\n",
    "        end_time = f\"{int(end//3600):02}:{int((end%3600)//60):02}:{int(end%60):02},{int((end%1)*1000):03}\"\n",
    "        f.write(f\"{start_time} --> {end_time}\\n\")\n",
    "        f.write(f\"{text}\\n\\n\")\n",
    "\n",
    "#---VTT---\n",
    "with open(os.path.join(audio_dir, f\"{filename}.vtt\"), \"w\", encoding=\"utf-8\") as f:\n",
    "    f.write(\"WEBVTT\\n\\n\")\n",
    "    for seg in result[\"segments\"]:\n",
    "        text = seg['text'].strip()\n",
    "        if not text:\n",
    "            continue\n",
    "        start = seg[\"start\"]\n",
    "        end = seg[\"end\"]\n",
    "        start_time = f\"{int(start//3600):02}:{int((start%3600)//60):02}:{int(start%60):02}.{int((start%1)*1000):03}\"\n",
    "        end_time = f\"{int(end//3600):02}:{int((end%3600)//60):02}:{int(end%60):02}.{int((end%1)*1000):03}\"\n",
    "        f.write(f\"{start_time} --> {end_time}\\n\")\n",
    "        f.write(f\"{text}\\n\\n\")\n",
    "\n",
    "#---TXT---\n",
    "with open(os.path.join(audio_dir, f\"{filename}.txt\"), \"w\", encoding=\"utf-8\") as f:\n",
    "    for seg in result[\"segments\"]:\n",
    "        text = seg['text'].strip()\n",
    "        if not text:\n",
    "            continue\n",
    "        start = seg[\"start\"]\n",
    "        end = seg[\"end\"]\n",
    "        start_time = f\"{int(start//3600):02}:{int((start%3600)//60):02}:{int(start%60):02}.{int((start%1)*1000):03}\"\n",
    "        end_time = f\"{int(end//3600):02}:{int((end%3600)//60):02}:{int(end%60):02}.{int((end%1)*1000):03}\"\n",
    "        f.write(f\"[{start_time} --> {end_time}] {text}\\n\")\n",
    "\n",
    "print(f\"已輸出至資料夾:{audio_dir}\")\n"
   ]
  },
  {
   "cell_type": "markdown",
   "id": "856680a0",
   "metadata": {},
   "source": [
    "### 分離功能至MusicSeparation.py內測試"
   ]
  },
  {
   "cell_type": "code",
   "execution_count": 1,
   "id": "33574c61",
   "metadata": {},
   "outputs": [
    {
     "name": "stdout",
     "output_type": "stream",
     "text": [
      "選擇的檔案: H:/NFU/score/score/output/Self Control by amatsukauto ໒꒱· ﾟ 【orignal】/Self Control by amatsukauto ໒꒱· ﾟ 【orignal】-vocals.wav\n",
      "偵測語言: ja\n",
      "已輸出至資料夾:H:/NFU/score/score/output/Self Control by amatsukauto ໒꒱· ﾟ 【orignal】\n"
     ]
    },
    {
     "data": {
      "text/plain": [
       "'H:/NFU/score/score/output/Self Control by amatsukauto ໒꒱· ﾟ 【orignal】Self Control by amatsukauto ໒꒱· ﾟ 【orignal】-vocals.srt'"
      ]
     },
     "execution_count": 1,
     "metadata": {},
     "output_type": "execute_result"
    }
   ],
   "source": [
    "from MusicSeparation import MusicSeparation\n",
    "#MusicSeparation.run_ASR(r\"H:/NFU/score/score/output/Immortals/Immortals-vocals.wav\")    #若無傳入值則由使用者手動選取\n",
    "MusicSeparation.run_ASR()"
   ]
  }
 ],
 "metadata": {
  "kernelspec": {
   "display_name": "Python 3",
   "language": "python",
   "name": "python3"
  },
  "language_info": {
   "codemirror_mode": {
    "name": "ipython",
    "version": 3
   },
   "file_extension": ".py",
   "mimetype": "text/x-python",
   "name": "python",
   "nbconvert_exporter": "python",
   "pygments_lexer": "ipython3",
   "version": "3.11.8"
  }
 },
 "nbformat": 4,
 "nbformat_minor": 5
}
