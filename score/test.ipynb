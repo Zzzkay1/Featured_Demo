{
 "cells": [
  {
   "cell_type": "code",
   "execution_count": null,
   "id": "22be0c73",
   "metadata": {},
   "outputs": [
    {
     "data": {
      "text/plain": [
       "27.873252868652344"
      ]
     },
     "execution_count": 2,
     "metadata": {},
     "output_type": "execute_result"
    }
   ],
   "source": [
    "import torch\n",
    "from psutil import virtual_memory\n",
    "torch.cuda.is_available()\n",
    "GPUmem = torch.cuda.mem_get_info()\n",
    "mem = GPUmem[1] /1024 / 1024 / 1024\n",
    "mem += virtual_memory().total /1024 / 1024 / 1024 / 2\n",
    "mem"
   ]
  },
  {
   "cell_type": "code",
   "execution_count": 4,
   "id": "deafc1e6",
   "metadata": {},
   "outputs": [
    {
     "name": "stdout",
     "output_type": "stream",
     "text": [
      "name: example\n",
      "value: 42\n",
      "status: active\n"
     ]
    }
   ],
   "source": [
    "import WebDisplay\n",
    "data = {\n",
    "    'name': 'example',\n",
    "    'value': 42,\n",
    "    'status': 'active'\n",
    "}\n",
    "web_display = WebDisplay.WebDisplay(data)\n",
    "web_display.print_data()"
   ]
  },
  {
   "cell_type": "code",
   "execution_count": 4,
   "id": "8a5785eb",
   "metadata": {},
   "outputs": [
    {
     "name": "stdout",
     "output_type": "stream",
     "text": [
      "download...\n",
      "ok!\n"
     ]
    }
   ],
   "source": [
    "from bs4 import BeautifulSoup\n",
    "from pytubefix import YouTube\n",
    "yt = YouTube('https://music.youtube.com/watch?v=NycFr6D6DSw&si=przy_9oxIVQs5HI9')\n",
    "print('download...')\n",
    "yt.streams.get_audio_only().download(output_path='download/')   #下載音訊\n",
    "print('ok!')"
   ]
  },
  {
   "cell_type": "code",
   "execution_count": 5,
   "id": "f0cef878",
   "metadata": {},
   "outputs": [
    {
     "data": {
      "text/plain": [
       "'f:\\\\NFU\\\\score\\\\download\\\\春日影 (MyGO!!!!! ver.).m4a'"
      ]
     },
     "execution_count": 5,
     "metadata": {},
     "output_type": "execute_result"
    }
   ],
   "source": [
    "acc = yt.streams.get_audio_only()\n",
    "acc.download(output_path='download/')   #下載音訊"
   ]
  },
  {
   "cell_type": "code",
   "execution_count": 3,
   "id": "161cd59c",
   "metadata": {},
   "outputs": [
    {
     "name": "stdout",
     "output_type": "stream",
     "text": [
      "已儲存：f:\\NFU\\score\\score/output\\周杰倫 Jay Chou【稻香 Rice Field】-Official Music Video\\周杰倫 Jay Chou【稻香 Rice Field】-Official Music Video-vocals.wav\n",
      "已儲存：f:\\NFU\\score\\score/output\\周杰倫 Jay Chou【稻香 Rice Field】-Official Music Video\\周杰倫 Jay Chou【稻香 Rice Field】-Official Music Video-other.wav\n",
      "\"f:\\NFU\\score\\download\\周杰倫 Jay Chou【稻香 Rice Field】-Official Music Video.mp4\" \"f:\\NFU\\score\\download\\周杰倫 Jay Chou【稻香 Rice Field】-Official Music Video.m4a\" \"f:\\NFU\\score\\download\\周杰倫 Jay Chou【稻香 Rice Field】-Official Music Video_merged.mp4\" f:\\NFU\\score\\score/output\\周杰倫 Jay Chou【稻香 Rice Field】-Official Music Video\\周杰倫 Jay Chou【稻香 Rice Field】-Official Music Video-other.wav\n"
     ]
    },
    {
     "data": {
      "text/plain": [
       "'f:\\\\NFU\\\\score\\\\score/output\\\\周杰倫 Jay Chou【稻香 Rice Field】-Official Music Video\\\\周杰倫 Jay Chou【稻香 Rice Field】-Official Music Video-other.wav'"
      ]
     },
     "execution_count": 3,
     "metadata": {},
     "output_type": "execute_result"
    }
   ],
   "source": [
    "from YouTubeDownload import YouTubeDownload\n",
    "from MusicSeparation import MusicSeparation\n",
    "import os\n",
    "url = 'https://youtu.be/sHD_z90ZKV0?list=RDsHD_z90ZKV0'\n",
    "vedio = YouTubeDownload.download_youtube_video(url)\n",
    "audio = YouTubeDownload.download_youtube_audio(url)\n",
    "separation_audio = MusicSeparation.run_separation(audio)\n",
    "merge = YouTubeDownload.merge_video_audio(vedio, separation_audio)\n",
    "print(vedio, audio , merge, separation_audio)\n",
    "#os.system(merge)\n",
    "separation_audio"
   ]
  },
  {
   "cell_type": "code",
   "execution_count": 2,
   "id": "88b475eb",
   "metadata": {},
   "outputs": [
    {
     "data": {
      "text/plain": [
       "'\"f:\\\\NFU\\\\score\\\\download\\\\千本桜MV\\u30002025年版 White Flame feat. 初音ミク.m4a\"'"
      ]
     },
     "execution_count": 2,
     "metadata": {},
     "output_type": "execute_result"
    }
   ],
   "source": [
    "os.system(merge)\n",
    "audio"
   ]
  }
 ],
 "metadata": {
  "kernelspec": {
   "display_name": "Python 3",
   "language": "python",
   "name": "python3"
  },
  "language_info": {
   "codemirror_mode": {
    "name": "ipython",
    "version": 3
   },
   "file_extension": ".py",
   "mimetype": "text/x-python",
   "name": "python",
   "nbconvert_exporter": "python",
   "pygments_lexer": "ipython3",
   "version": "3.11.9"
  }
 },
 "nbformat": 4,
 "nbformat_minor": 5
}
